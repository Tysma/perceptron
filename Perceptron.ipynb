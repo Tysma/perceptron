{
  "nbformat": 4,
  "nbformat_minor": 0,
  "metadata": {
    "colab": {
      "provenance": [],
      "toc_visible": true,
      "include_colab_link": true
    },
    "kernelspec": {
      "name": "python3",
      "display_name": "Python 3"
    },
    "language_info": {
      "name": "python"
    }
  },
  "cells": [
    {
      "cell_type": "markdown",
      "metadata": {
        "id": "view-in-github",
        "colab_type": "text"
      },
      "source": [
        "<a href=\"https://colab.research.google.com/github/Tysma/perceptron/blob/main/Perceptron.ipynb\" target=\"_parent\"><img src=\"https://colab.research.google.com/assets/colab-badge.svg\" alt=\"Open In Colab\"/></a>"
      ]
    },
    {
      "cell_type": "markdown",
      "source": [
        "# Nouvelle section"
      ],
      "metadata": {
        "id": "v7NjvtLRfnVN"
      }
    },
    {
      "cell_type": "markdown",
      "source": [
        "Le perceptron est un type de modèle de réseau de neurones artificiels. Il est généralement considéré comme la forme la plus simple d'un réseau de neurones à une seule couche. Ainsi, le perceptron fait partie de la famille des réseaux de neurones artificiels, en particulier des réseaux de neurones à propagation directe (feedforward neural networks) et est souvent associé à l'apprentissage supervisé pour les tâches de classification binaire."
      ],
      "metadata": {
        "id": "TKX78FATgDBp"
      }
    },
    {
      "cell_type": "markdown",
      "source": [
        "# Nouvelle section"
      ],
      "metadata": {
        "id": "mst70KLigQDi"
      }
    }
  ]
}